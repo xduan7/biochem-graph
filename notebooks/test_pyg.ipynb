{
 "cells": [
  {
   "cell_type": "code",
   "execution_count": 1,
   "metadata": {
    "collapsed": true
   },
   "outputs": [
    {
     "name": "stderr",
     "output_type": "stream",
     "text": [
      "RDKit WARNING: [10:27:44] Enabling RDKit 2019.09.3 jupyter extensions\n"
     ]
    },
    {
     "name": "stdout",
     "output_type": "stream",
     "text": [
      "CC(=O)C(O)COP(=O)(O)O\n"
     ]
    }
   ],
   "source": [
    "import rdkit\n",
    "import bcgraph\n",
    "\n",
    "# m = bcgraph.faker.get_random_mol()\n",
    "m = rdkit.Chem.MolFromSmiles('CC(=O)C(O)COP(=O)(O)O')\n",
    "print(rdkit.Chem.MolToSmiles(m))\n"
   ]
  },
  {
   "cell_type": "code",
   "execution_count": 2,
   "outputs": [],
   "source": [
    "g = bcgraph.pyg.convert_mol_to_graph(\n",
    "    mol=m,\n",
    "    conformer=None,\n",
    "    atom_rdkit_features=[\n",
    "        bcgraph.utils.RDKitAtomFeatures.atomic_number,\n",
    "    ],\n",
    "    bond_rdkit_features=[\n",
    "        bcgraph.utils.RDKitBondFeatures.bond_type,\n",
    "    ],\n",
    ")"
   ],
   "metadata": {
    "collapsed": false,
    "pycharm": {
     "name": "#%%\n"
    }
   }
  },
  {
   "cell_type": "code",
   "execution_count": 3,
   "outputs": [
    {
     "name": "stdout",
     "output_type": "stream",
     "text": [
      "Data(edge_attr=[42, 23], edge_index=[2, 42], pos=[12, 3], x=[12, 2])\n"
     ]
    }
   ],
   "source": [
    "print(g)"
   ],
   "metadata": {
    "collapsed": false,
    "pycharm": {
     "name": "#%%\n"
    }
   }
  }
 ],
 "metadata": {
  "kernelspec": {
   "display_name": "Python 3",
   "language": "python",
   "name": "python3"
  },
  "language_info": {
   "codemirror_mode": {
    "name": "ipython",
    "version": 2
   },
   "file_extension": ".py",
   "mimetype": "text/x-python",
   "name": "python",
   "nbconvert_exporter": "python",
   "pygments_lexer": "ipython2",
   "version": "2.7.6"
  }
 },
 "nbformat": 4,
 "nbformat_minor": 0
}